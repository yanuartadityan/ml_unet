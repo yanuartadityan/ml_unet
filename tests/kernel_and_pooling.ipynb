{
 "cells": [
  {
   "cell_type": "code",
   "execution_count": 2,
   "metadata": {},
   "outputs": [],
   "source": [
    "import torch\n",
    "import torch.nn as nn"
   ]
  },
  {
   "cell_type": "code",
   "execution_count": 23,
   "metadata": {},
   "outputs": [
    {
     "name": "stdout",
     "output_type": "stream",
     "text": [
      "x-shape: torch.Size([1, 8, 4, 4])\n",
      "y-shape: torch.Size([1, 8, 2, 2])\n",
      "tensor([[[[0.5743, 2.3259],\n",
      "          [0.7393, 1.1098]],\n",
      "\n",
      "         [[1.0444, 0.0000],\n",
      "          [1.9945, 1.6405]],\n",
      "\n",
      "         [[1.4953, 0.9102],\n",
      "          [1.2487, 1.4581]],\n",
      "\n",
      "         [[0.8370, 2.6242],\n",
      "          [0.7941, 0.1536]],\n",
      "\n",
      "         [[0.5347, 1.8347],\n",
      "          [0.4287, 1.3665]],\n",
      "\n",
      "         [[1.1190, 0.6845],\n",
      "          [0.7405, 1.6878]],\n",
      "\n",
      "         [[0.7039, 1.6657],\n",
      "          [0.4685, 1.5883]],\n",
      "\n",
      "         [[1.0253, 1.6926],\n",
      "          [1.3259, 0.0000]]]], grad_fn=<MaxPool2DWithIndicesBackward0>)\n"
     ]
    }
   ],
   "source": [
    "# rand (batch, channel, pixel_w, pixel_h)\n",
    "input = torch.randn([1, 3, 8, 8])\n",
    "\n",
    "# conv2d (in_channels, out_channels/filters/features, kernel, stride)\n",
    "layer_conv2d = nn.Sequential(\n",
    "  # first conv2d \n",
    "  nn.Conv2d(3, 8, 3, 1, bias=False), \n",
    "  nn.BatchNorm2d(8),\n",
    "  nn.ReLU(inplace=True),\n",
    "  # second conv2d \n",
    "  nn.Conv2d(8, 8, 3, 1, bias=False), \n",
    "  nn.BatchNorm2d(8),\n",
    "  nn.ReLU(inplace=True)\n",
    ")\n",
    "\n",
    "# max pool2d (kernel=2, stride=2), usually known as maxpool 2x2\n",
    "layer_pool = nn.MaxPool2d(kernel_size=2, stride=2)\n",
    "\n",
    "x = layer_conv2d(input)\n",
    "y = layer_pool(x)\n",
    "\n",
    "print(f\"x-shape: {x.shape}\")\n",
    "print(f'y-shape: {y.shape}')\n",
    "print(y)"
   ]
  }
 ],
 "metadata": {
  "kernelspec": {
   "display_name": "ai",
   "language": "python",
   "name": "python3"
  },
  "language_info": {
   "codemirror_mode": {
    "name": "ipython",
    "version": 3
   },
   "file_extension": ".py",
   "mimetype": "text/x-python",
   "name": "python",
   "nbconvert_exporter": "python",
   "pygments_lexer": "ipython3",
   "version": "3.11.6"
  }
 },
 "nbformat": 4,
 "nbformat_minor": 2
}
